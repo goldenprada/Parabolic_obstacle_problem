{
 "cells": [
  {
   "cell_type": "code",
   "execution_count": 1,
   "id": "c52f720f",
   "metadata": {},
   "outputs": [
    {
     "name": "stdout",
     "output_type": "stream",
     "text": [
      "eps =  0.5\n",
      "||e(.,T)|| =   0.417137145996094\n",
      "||nablae|| =  1.09759211540223\n",
      "||tau-nablav|| =  1.04766030534818\n",
      "l.h.s =  2.06352531909944\n",
      "eps =  0.35\n",
      "||e(.,T)|| =   0.254966943740844\n",
      "||nablae|| =  1.08492045546770\n",
      "||tau-nablav|| =  1.04159514950277\n",
      "l.h.s =  1.88234762694239\n",
      "eps =  0.25\n",
      "||e(.,T)|| =   0.165941317876179\n",
      "||nablae|| =  1.07257879028717\n",
      "||tau-nablav|| =  1.03565379847088\n",
      "l.h.s =  1.77480950330694\n",
      "eps =  0.15\n",
      "||e(.,T)|| =   0.0905195636749272\n",
      "||nablae|| =  1.05719988698561\n",
      "||tau-nablav|| =  1.02820225976488\n",
      "l.h.s =  1.67631939415335\n",
      "eps =  0.05\n",
      "||e(.,T)|| =   0.0273683681488036\n",
      "||nablae|| =  1.03887664679286\n",
      "||tau-nablav|| =  1.01925298468676\n",
      "l.h.s =  1.58568333833810\n",
      "eps =  0.001\n",
      "||e(.,T)|| =   0.000521354362011733\n",
      "||nablae|| =  1.02885728350629\n",
      "||tau-nablav|| =  1.01432602426749\n",
      "l.h.s =  1.54380727962145\n"
     ]
    }
   ],
   "source": [
    "from sympy import *\n",
    "x = Symbol('x')\n",
    "t = 0.5\n",
    "def integralT(eps):\n",
    "    return integrate(100*(eps/2 * (1-x)*(x-1/2+eps/8)**2), (x, 1/2 - eps/8, 1))\n",
    "def rezult(eps):\n",
    "    a = integralT(eps)\n",
    "    return 2*a\n",
    "def integralnablae(eps):\n",
    "    return integrate(100*(((x-(1+(2-eps)*t)/4) * ((2 - 3*x + (1+(2-eps)*t))/4))**2), \n",
    "                     (x, ((1+ (2-eps)*t)/4), 1))\n",
    "def rezultnablae(eps):\n",
    "    b = integralnablae(eps)\n",
    "    return 2*b\n",
    "\n",
    "\n",
    "nums = [0.5, 0.35, 0.25, 0.15, 0.05, 0.001]\n",
    "for num in nums:\n",
    "    print(\"eps = \", num)\n",
    "    print(\"||e(.,T)|| =  \", rezult(num))\n",
    "    print(\"||nablae|| = \", rezultnablae(num))\n",
    "    print(\"||tau-nablav|| = \", sqrt(rezultnablae(num)))\n",
    "    print(\"l.h.s = \", rezult(num) + 1.5*rezultnablae(num))\n",
    "    \n",
    "    \n",
    "    \n",
    "    \n"
   ]
  },
  {
   "cell_type": "code",
   "execution_count": null,
   "id": "d6b5e222",
   "metadata": {},
   "outputs": [],
   "source": []
  }
 ],
 "metadata": {
  "kernelspec": {
   "display_name": "Python 3",
   "language": "python",
   "name": "python3"
  },
  "language_info": {
   "codemirror_mode": {
    "name": "ipython",
    "version": 3
   },
   "file_extension": ".py",
   "mimetype": "text/x-python",
   "name": "python",
   "nbconvert_exporter": "python",
   "pygments_lexer": "ipython3",
   "version": "3.8.8"
  }
 },
 "nbformat": 4,
 "nbformat_minor": 5
}
